{
 "cells": [
  {
   "cell_type": "markdown",
   "id": "942b3450-af91-4da3-b614-98b88f1c712f",
   "metadata": {},
   "source": [
    "# Data Science Tools and Ecosystem"
   ]
  },
  {
   "cell_type": "markdown",
   "id": "9be3bfee-c2b8-4020-8d43-08ebf632335f",
   "metadata": {},
   "source": [
    "In this notebook, Data Science Tools and Ecosystem are summarized."
   ]
  },
  {
   "cell_type": "markdown",
   "id": "3b1a33eb-9299-4f64-9ed7-155f193ad41b",
   "metadata": {},
   "source": [
    "**Objectives:**\n",
    "* Popular languages for Data Science\n",
    "* Commonly used libraries in Data Science\n",
    "* Popular Machine Learning Algorithms\n",
    "* Applications of Data Science"
   ]
  },
  {
   "cell_type": "markdown",
   "id": "444eb20a-c175-4302-9a3a-5066517c1eeb",
   "metadata": {},
   "source": [
    "Some of the popular languages that Data Scientists use are:\n",
    "1. Python\n",
    "2. SQL\n",
    "3. R\n",
    "4. Java"
   ]
  },
  {
   "cell_type": "markdown",
   "id": "ed015576-5ffd-4550-ba1c-40352a6e3077",
   "metadata": {},
   "source": [
    "Some of the commonly used libraries used by Data Scientists include:\n",
    "1. Pandas\n",
    "2. NumPy\n",
    "3. Matplotlib\n",
    "4. Tensorflow"
   ]
  },
  {
   "cell_type": "markdown",
   "id": "ece9ed9a-e0dc-4915-bedb-7ba628929060",
   "metadata": {},
   "source": [
    "|Data Science Tools|\n",
    "|------------------|\n",
    "|IBM Watson Studio|\n",
    "|Jyupiter Notebook|\n",
    "|Databricks|\n"
   ]
  },
  {
   "cell_type": "markdown",
   "id": "c6920c5b-260d-4a07-8002-4647ea0049a1",
   "metadata": {},
   "source": [
    "### Below are a few examples of evaluating arithmetic expressions in Python"
   ]
  },
  {
   "cell_type": "code",
   "execution_count": 5,
   "id": "b5738e22-e8fd-4ac8-ad8f-e0dea1102420",
   "metadata": {},
   "outputs": [
    {
     "data": {
      "text/plain": [
       "17"
      ]
     },
     "execution_count": 5,
     "metadata": {},
     "output_type": "execute_result"
    }
   ],
   "source": [
    "# This a simple arithmetic expression to mutiply then add integers\n",
    "(3*4)+5"
   ]
  },
  {
   "cell_type": "code",
   "execution_count": 6,
   "id": "225897b6-edab-4b6d-9a48-7b123a901c2b",
   "metadata": {},
   "outputs": [
    {
     "data": {
      "text/plain": [
       "3.3333333333333335"
      ]
     },
     "execution_count": 6,
     "metadata": {},
     "output_type": "execute_result"
    }
   ],
   "source": [
    "# This will convert 200 minutes to hours by diving by 60\n",
    "200/60"
   ]
  },
  {
   "cell_type": "markdown",
   "id": "a4d0dc05-ccf7-4df9-9b1e-b28bcfe95e0f",
   "metadata": {},
   "source": [
    "## Author\n",
    "Sabari Mana"
   ]
  }
 ],
 "metadata": {
  "kernelspec": {
   "display_name": "Python",
   "language": "python",
   "name": "conda-env-python-py"
  },
  "language_info": {
   "codemirror_mode": {
    "name": "ipython",
    "version": 3
   },
   "file_extension": ".py",
   "mimetype": "text/x-python",
   "name": "python",
   "nbconvert_exporter": "python",
   "pygments_lexer": "ipython3",
   "version": "3.7.12"
  }
 },
 "nbformat": 4,
 "nbformat_minor": 5
}
